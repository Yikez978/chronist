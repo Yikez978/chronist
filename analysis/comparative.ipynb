{
 "cells": [
  {
   "cell_type": "code",
   "execution_count": 227,
   "metadata": {
    "collapsed": true
   },
   "outputs": [],
   "source": [
    "import os\n",
    "import datetime\n",
    "import numpy as np\n",
    "import pandas as pd\n",
    "import plotly as py\n",
    "import cufflinks as cf"
   ]
  },
  {
   "cell_type": "code",
   "execution_count": 228,
   "metadata": {
    "collapsed": true
   },
   "outputs": [],
   "source": [
    "# py.tools.set_credentials_file(username='chronist', api_key='ChgUEoth9jxWqnwCDVGa')\n",
    "py.tools.set_credentials_file(username='chronist2', api_key='zNXCas8b5vEIvuY4j2Me')"
   ]
  },
  {
   "cell_type": "code",
   "execution_count": 229,
   "metadata": {
    "collapsed": true
   },
   "outputs": [],
   "source": [
    "data_directory = '../data'\n",
    "participant = 'a'\n",
    "rolling_mean_window = 30\n",
    "timeframe = ('2016-04-01', '2017-02-01')"
   ]
  },
  {
   "cell_type": "code",
   "execution_count": 230,
   "metadata": {
    "collapsed": false
   },
   "outputs": [],
   "source": [
    "def remove_outliers(series):\n",
    "    iqr = (series.quantile(0.25) * 1.5, series.quantile(0.75) * 1.5)\n",
    "    outliers = (series < iqr[0]) | (series > iqr[1])\n",
    "    return series[~outliers]"
   ]
  },
  {
   "cell_type": "code",
   "execution_count": 231,
   "metadata": {
    "collapsed": false
   },
   "outputs": [],
   "source": [
    "def normalize(series):\n",
    "    min = series.min()\n",
    "    max = series.max()\n",
    "    return ((series - min) / (max - min) - 0.5) * 2"
   ]
  },
  {
   "cell_type": "code",
   "execution_count": 232,
   "metadata": {
    "collapsed": false
   },
   "outputs": [],
   "source": [
    "data = pd.DataFrame()\n",
    "\n",
    "lifeslice = pd.read_csv(data_directory + '/' + participant + '/lifeslice.csv', parse_dates=[['date', 'time']], index_col=['date_time']).dropna()\n",
    "lifeslice_emotions_valence = remove_outliers(lifeslice['emotions.valence'])\n",
    "lifeslice_emotions_valence = normalize(lifeslice_emotions_valence)\n",
    "data = data.merge(lifeslice_emotions_valence.to_frame('lifeslice'), how='outer', left_index=True, right_index=True)\n",
    "\n",
    "for dataset in ['imessage', 'facebook', 'dayone', '750words']:\n",
    "    csv = data_directory + '/' + participant + '/' + dataset + '.csv'\n",
    "    if (not os.path.exists(csv)):\n",
    "        continue\n",
    "    df = pd.read_csv(csv, parse_dates=[['date', 'time']], index_col=['date_time']).dropna()\n",
    "    series = remove_outliers(df['sentiment.comparative'])\n",
    "    series = normalize(series)\n",
    "    series = series[series != -1]\n",
    "    data = data.merge(series.to_frame(dataset), how='outer', left_index=True, right_index=True)"
   ]
  },
  {
   "cell_type": "code",
   "execution_count": 233,
   "metadata": {
    "collapsed": false
   },
   "outputs": [],
   "source": [
    "start, end = (data.index.searchsorted(datetime.datetime.strptime(i, '%Y-%m-%d')) for i in timeframe)\n",
    "data = data[start:end]"
   ]
  },
  {
   "cell_type": "code",
   "execution_count": 234,
   "metadata": {
    "collapsed": false
   },
   "outputs": [
    {
     "data": {
      "text/html": [
       "<iframe id=\"igraph\" scrolling=\"no\" style=\"border:none;\" seamless=\"seamless\" src=\"https://plot.ly/~chronist2/2.embed\" height=\"525px\" width=\"100%\"></iframe>"
      ],
      "text/plain": [
       "<plotly.tools.PlotlyDisplay object>"
      ]
     },
     "execution_count": 234,
     "metadata": {},
     "output_type": "execute_result"
    }
   ],
   "source": [
    "data.iplot(kind='histogram', filename='chronist-histogram', subplots=True, shape=(5, 1))"
   ]
  },
  {
   "cell_type": "code",
   "execution_count": 235,
   "metadata": {
    "collapsed": false
   },
   "outputs": [],
   "source": [
    "resampled = data.resample('1d').mean().fillna(data.mean()).rolling(rolling_mean_window, center=True).mean()"
   ]
  },
  {
   "cell_type": "code",
   "execution_count": 236,
   "metadata": {
    "collapsed": false
   },
   "outputs": [
    {
     "data": {
      "text/html": [
       "<iframe id=\"igraph\" scrolling=\"no\" style=\"border:none;\" seamless=\"seamless\" src=\"https://plot.ly/~chronist2/4.embed\" height=\"525px\" width=\"100%\"></iframe>"
      ],
      "text/plain": [
       "<plotly.tools.PlotlyDisplay object>"
      ]
     },
     "execution_count": 236,
     "metadata": {},
     "output_type": "execute_result"
    }
   ],
   "source": [
    "colors = [\n",
    "    '#50514F',\n",
    "    '#F25F5C',\n",
    "    '#FFE066',\n",
    "    '#247BA0',\n",
    "    '#70C1B3',\n",
    "]\n",
    "\n",
    "scatters = [py.graph_objs.Scattergl(\n",
    "    name = column,\n",
    "    x = data.index,\n",
    "    y = data[column],\n",
    "    mode = 'markers',\n",
    "    marker = {\n",
    "        'size': 2,\n",
    "        'color': colors[index]\n",
    "    }\n",
    ") for index, column in enumerate(data.columns)]\n",
    "\n",
    "moving_averages = [py.graph_objs.Scattergl(\n",
    "    name = column + ' ma',\n",
    "    x = resampled.index,\n",
    "    y = resampled[column],\n",
    "    mode = 'lines',\n",
    "    line = {\n",
    "        'color': colors[index]\n",
    "    }\n",
    ") for index, column in enumerate(resampled.columns)]\n",
    "\n",
    "py.plotly.iplot([*scatters, *moving_averages], filename='chronist-time-series')"
   ]
  },
  {
   "cell_type": "code",
   "execution_count": 239,
   "metadata": {
    "collapsed": false
   },
   "outputs": [
    {
     "data": {
      "text/html": [
       "<iframe id=\"igraph\" scrolling=\"no\" style=\"border:none;\" seamless=\"seamless\" src=\"https://plot.ly/~chronist2/6.embed\" height=\"800px\" width=\"800px\"></iframe>"
      ],
      "text/plain": [
       "<plotly.tools.PlotlyDisplay object>"
      ]
     },
     "execution_count": 239,
     "metadata": {},
     "output_type": "execute_result"
    }
   ],
   "source": [
    "fig = py.figure_factory.create_scatterplotmatrix(resampled, diag='histogram', height=800, width=800)\n",
    "py.plotly.iplot(fig, filename='chronist-scatterplot-matrix')"
   ]
  },
  {
   "cell_type": "code",
   "execution_count": null,
   "metadata": {
    "collapsed": true
   },
   "outputs": [],
   "source": []
  }
 ],
 "metadata": {
  "anaconda-cloud": {},
  "kernelspec": {
   "display_name": "Python [default]",
   "language": "python",
   "name": "python3"
  },
  "language_info": {
   "codemirror_mode": {
    "name": "ipython",
    "version": 3
   },
   "file_extension": ".py",
   "mimetype": "text/x-python",
   "name": "python",
   "nbconvert_exporter": "python",
   "pygments_lexer": "ipython3",
   "version": "3.5.2"
  }
 },
 "nbformat": 4,
 "nbformat_minor": 1
}
